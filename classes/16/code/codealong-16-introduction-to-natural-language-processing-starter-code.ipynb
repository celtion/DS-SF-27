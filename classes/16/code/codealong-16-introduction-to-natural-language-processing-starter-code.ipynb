{
 "cells": [
  {
   "cell_type": "markdown",
   "metadata": {},
   "source": [
    "# DS-SF-27 | Codealong 16 | Introduction to Natural Language Processing"
   ]
  },
  {
   "cell_type": "markdown",
   "metadata": {},
   "source": [
    "## >>> One-time setup"
   ]
  },
  {
   "cell_type": "code",
   "execution_count": 1,
   "metadata": {
    "collapsed": false
   },
   "outputs": [],
   "source": [
    "'''\n",
    "import nltk\n",
    "nltk.download()\n",
    "'''\n",
    "\n",
    "pass"
   ]
  },
  {
   "cell_type": "markdown",
   "metadata": {},
   "source": [
    "## <<< One-time setup"
   ]
  },
  {
   "cell_type": "code",
   "execution_count": 2,
   "metadata": {
    "collapsed": true
   },
   "outputs": [],
   "source": [
    "import os\n",
    "\n",
    "import numpy as np\n",
    "import pandas as pd\n",
    "pd.set_option('display.max_rows', 10)\n",
    "pd.set_option('display.notebook_repr_html', True)\n",
    "pd.set_option('display.max_columns', 10)\n",
    "\n",
    "import string\n",
    "import unicodedata\n",
    "from nltk import tokenize, corpus, stem\n",
    "\n",
    "from sklearn import feature_extraction, linear_model, ensemble, cross_validation, metrics, decomposition\n",
    "\n",
    "import matplotlib.pyplot as plt\n",
    "%matplotlib inline\n",
    "plt.style.use('ggplot')"
   ]
  },
  {
   "cell_type": "markdown",
   "metadata": {},
   "source": [
    "## Tokenization"
   ]
  },
  {
   "cell_type": "code",
   "execution_count": 3,
   "metadata": {
    "collapsed": true
   },
   "outputs": [],
   "source": [
    "def tokenize_text(document):\n",
    "    document = document.encode('utf-8')\n",
    "\n",
    "    # Convert text to lowercase\n",
    "    document = document.lower()\n",
    "\n",
    "    # Tokenize\n",
    "    tokens = tokenize.word_tokenize(document)\n",
    "\n",
    "    # Remove punctuation in tokens and then remove empty tokens\n",
    "    tokens = [token.translate(None, string.punctuation) for token in tokens]\n",
    "    tokens = [token for token in tokens if token]\n",
    "\n",
    "    # Remove stop words\n",
    "    tokens = [token for token in tokens if not token in corpus.stopwords.words('english')]\n",
    "\n",
    "    return tokens"
   ]
  },
  {
   "cell_type": "code",
   "execution_count": 4,
   "metadata": {
    "collapsed": false
   },
   "outputs": [
    {
     "data": {
      "text/plain": [
       "['sentence', 'wait', 'another', 'third']"
      ]
     },
     "execution_count": 4,
     "metadata": {},
     "output_type": "execute_result"
    }
   ],
   "source": [
    "tokens = tokenize_text(\"This is a sentence...  Wait, here's another.  And a third!\")\n",
    "\n",
    "tokens"
   ]
  },
  {
   "cell_type": "markdown",
   "metadata": {},
   "source": [
    "## Stemming"
   ]
  },
  {
   "cell_type": "code",
   "execution_count": 5,
   "metadata": {
    "collapsed": false
   },
   "outputs": [],
   "source": [
    "class Stemmer:\n",
    "    stemmer = stem.porter.PorterStemmer()\n",
    "\n",
    "    @staticmethod\n",
    "    def stem_tokens(tokens):\n",
    "        return [Stemmer.stemmer.stem(token) for token in tokens]"
   ]
  },
  {
   "cell_type": "code",
   "execution_count": 6,
   "metadata": {
    "collapsed": false
   },
   "outputs": [
    {
     "data": {
      "text/plain": [
       "[u'sentenc', u'wait', u'anoth', u'third']"
      ]
     },
     "execution_count": 6,
     "metadata": {},
     "output_type": "execute_result"
    }
   ],
   "source": [
    "tokens = Stemmer.stem_tokens(tokens)\n",
    "\n",
    "tokens"
   ]
  },
  {
   "cell_type": "markdown",
   "metadata": {},
   "source": [
    "## Book reviews"
   ]
  },
  {
   "cell_type": "markdown",
   "metadata": {},
   "source": [
    "Below, we will be analyzing a partial list of the reviews for J.K. Rowling's The Casual Vacancy.  (https://www.amazon.com/dp/0316228532)\n",
    "\n",
    "Our dataset is a subset of http://snap.stanford.edu/data/amazon/productGraph/categoryFiles/reviews_Books_5.json.gz."
   ]
  },
  {
   "cell_type": "code",
   "execution_count": 7,
   "metadata": {
    "collapsed": false
   },
   "outputs": [],
   "source": [
    "df = pd.read_csv(os.path.join('..', 'datasets', 'reviews_Books_5-0316228532.csv'))"
   ]
  },
  {
   "cell_type": "code",
   "execution_count": 8,
   "metadata": {
    "collapsed": false
   },
   "outputs": [
    {
     "data": {
      "text/html": [
       "<div>\n",
       "<table border=\"1\" class=\"dataframe\">\n",
       "  <thead>\n",
       "    <tr style=\"text-align: right;\">\n",
       "      <th></th>\n",
       "      <th>asin</th>\n",
       "      <th>reviewer_id</th>\n",
       "      <th>reviewer_name</th>\n",
       "      <th>summary</th>\n",
       "      <th>review_text</th>\n",
       "      <th>overall</th>\n",
       "      <th>review_time</th>\n",
       "      <th>unix_review_time</th>\n",
       "      <th>helpful</th>\n",
       "    </tr>\n",
       "  </thead>\n",
       "  <tbody>\n",
       "    <tr>\n",
       "      <th>0</th>\n",
       "      <td>316228532</td>\n",
       "      <td>AY2UIGHCB4VPB</td>\n",
       "      <td>NaN</td>\n",
       "      <td>but a good read!</td>\n",
       "      <td>A departure for her, but a good read!</td>\n",
       "      <td>5</td>\n",
       "      <td>07 12, 2014</td>\n",
       "      <td>1405123200</td>\n",
       "      <td>[0, 0]</td>\n",
       "    </tr>\n",
       "    <tr>\n",
       "      <th>1</th>\n",
       "      <td>316228532</td>\n",
       "      <td>A2L17U0TWH9UWS</td>\n",
       "      <td>1075</td>\n",
       "      <td>Not worth the time</td>\n",
       "      <td>I had a hard time remembering who each charact...</td>\n",
       "      <td>2</td>\n",
       "      <td>11 12, 2013</td>\n",
       "      <td>1384214400</td>\n",
       "      <td>[0, 1]</td>\n",
       "    </tr>\n",
       "    <tr>\n",
       "      <th>2</th>\n",
       "      <td>316228532</td>\n",
       "      <td>A2R63TBVG5OAF6</td>\n",
       "      <td>12121</td>\n",
       "      <td>The Casual Vacancy</td>\n",
       "      <td>This is the only review I have ever written.  ...</td>\n",
       "      <td>1</td>\n",
       "      <td>10 1, 2012</td>\n",
       "      <td>1349049600</td>\n",
       "      <td>[13, 25]</td>\n",
       "    </tr>\n",
       "    <tr>\n",
       "      <th>3</th>\n",
       "      <td>316228532</td>\n",
       "      <td>ACU39L9G696US</td>\n",
       "      <td>123esmo</td>\n",
       "      <td>Expecting more from J.K. Rowling</td>\n",
       "      <td>I was expecting more from J.K. Rowling, it's a...</td>\n",
       "      <td>2</td>\n",
       "      <td>01 10, 2013</td>\n",
       "      <td>1357776000</td>\n",
       "      <td>[0, 1]</td>\n",
       "    </tr>\n",
       "    <tr>\n",
       "      <th>4</th>\n",
       "      <td>316228532</td>\n",
       "      <td>A3N7KY1PBMF880</td>\n",
       "      <td>&amp;#34;Bad Cat!&amp;#34;</td>\n",
       "      <td>Sorry That I  Bought It.</td>\n",
       "      <td>As big a fan as I am of J K Rowling's Harry Po...</td>\n",
       "      <td>1</td>\n",
       "      <td>05 11, 2013</td>\n",
       "      <td>1368230400</td>\n",
       "      <td>[0, 3]</td>\n",
       "    </tr>\n",
       "    <tr>\n",
       "      <th>...</th>\n",
       "      <td>...</td>\n",
       "      <td>...</td>\n",
       "      <td>...</td>\n",
       "      <td>...</td>\n",
       "      <td>...</td>\n",
       "      <td>...</td>\n",
       "      <td>...</td>\n",
       "      <td>...</td>\n",
       "      <td>...</td>\n",
       "    </tr>\n",
       "    <tr>\n",
       "      <th>2045</th>\n",
       "      <td>316228532</td>\n",
       "      <td>A1SCYWLS37YR50</td>\n",
       "      <td>ZC</td>\n",
       "      <td>Spectacular prose in a rambling story</td>\n",
       "      <td>Spectacular prose in a rambling story that see...</td>\n",
       "      <td>5</td>\n",
       "      <td>02 12, 2014</td>\n",
       "      <td>1392163200</td>\n",
       "      <td>[1, 1]</td>\n",
       "    </tr>\n",
       "    <tr>\n",
       "      <th>2046</th>\n",
       "      <td>316228532</td>\n",
       "      <td>A1POFVVXUZR3IQ</td>\n",
       "      <td>Z Hayes</td>\n",
       "      <td>Difficult to get into, but has its moments</td>\n",
       "      <td>Although I am a great fan of the Harry Potter ...</td>\n",
       "      <td>3</td>\n",
       "      <td>07 18, 2013</td>\n",
       "      <td>1374105600</td>\n",
       "      <td>[1, 1]</td>\n",
       "    </tr>\n",
       "    <tr>\n",
       "      <th>2047</th>\n",
       "      <td>316228532</td>\n",
       "      <td>A1YSU2VSUJZAR5</td>\n",
       "      <td>zolteg59</td>\n",
       "      <td>The Casual Vacancy</td>\n",
       "      <td>While the story was intriguing, and I am a hug...</td>\n",
       "      <td>1</td>\n",
       "      <td>11 11, 2012</td>\n",
       "      <td>1352592000</td>\n",
       "      <td>[0, 1]</td>\n",
       "    </tr>\n",
       "    <tr>\n",
       "      <th>2048</th>\n",
       "      <td>316228532</td>\n",
       "      <td>A2ZF888HX9YR8E</td>\n",
       "      <td>Zoobeefoo</td>\n",
       "      <td>A better read for Brits perhaps?</td>\n",
       "      <td>What an odd book!  The adolescent characters a...</td>\n",
       "      <td>3</td>\n",
       "      <td>12 30, 2012</td>\n",
       "      <td>1356825600</td>\n",
       "      <td>[2, 3]</td>\n",
       "    </tr>\n",
       "    <tr>\n",
       "      <th>2049</th>\n",
       "      <td>316228532</td>\n",
       "      <td>A3VE36BNPVYR4N</td>\n",
       "      <td>zoshi</td>\n",
       "      <td>Loved it!</td>\n",
       "      <td>Chatty and immediately comfortable to read. It...</td>\n",
       "      <td>5</td>\n",
       "      <td>10 16, 2012</td>\n",
       "      <td>1350345600</td>\n",
       "      <td>[2, 3]</td>\n",
       "    </tr>\n",
       "  </tbody>\n",
       "</table>\n",
       "<p>2050 rows × 9 columns</p>\n",
       "</div>"
      ],
      "text/plain": [
       "           asin     reviewer_id       reviewer_name  \\\n",
       "0     316228532   AY2UIGHCB4VPB                 NaN   \n",
       "1     316228532  A2L17U0TWH9UWS                1075   \n",
       "2     316228532  A2R63TBVG5OAF6               12121   \n",
       "3     316228532   ACU39L9G696US             123esmo   \n",
       "4     316228532  A3N7KY1PBMF880  &#34;Bad Cat!&#34;   \n",
       "...         ...             ...                 ...   \n",
       "2045  316228532  A1SCYWLS37YR50                  ZC   \n",
       "2046  316228532  A1POFVVXUZR3IQ             Z Hayes   \n",
       "2047  316228532  A1YSU2VSUJZAR5            zolteg59   \n",
       "2048  316228532  A2ZF888HX9YR8E           Zoobeefoo   \n",
       "2049  316228532  A3VE36BNPVYR4N               zoshi   \n",
       "\n",
       "                                         summary  \\\n",
       "0                               but a good read!   \n",
       "1                             Not worth the time   \n",
       "2                             The Casual Vacancy   \n",
       "3               Expecting more from J.K. Rowling   \n",
       "4                       Sorry That I  Bought It.   \n",
       "...                                          ...   \n",
       "2045       Spectacular prose in a rambling story   \n",
       "2046  Difficult to get into, but has its moments   \n",
       "2047                          The Casual Vacancy   \n",
       "2048            A better read for Brits perhaps?   \n",
       "2049                                   Loved it!   \n",
       "\n",
       "                                            review_text  overall  review_time  \\\n",
       "0                 A departure for her, but a good read!        5  07 12, 2014   \n",
       "1     I had a hard time remembering who each charact...        2  11 12, 2013   \n",
       "2     This is the only review I have ever written.  ...        1   10 1, 2012   \n",
       "3     I was expecting more from J.K. Rowling, it's a...        2  01 10, 2013   \n",
       "4     As big a fan as I am of J K Rowling's Harry Po...        1  05 11, 2013   \n",
       "...                                                 ...      ...          ...   \n",
       "2045  Spectacular prose in a rambling story that see...        5  02 12, 2014   \n",
       "2046  Although I am a great fan of the Harry Potter ...        3  07 18, 2013   \n",
       "2047  While the story was intriguing, and I am a hug...        1  11 11, 2012   \n",
       "2048  What an odd book!  The adolescent characters a...        3  12 30, 2012   \n",
       "2049  Chatty and immediately comfortable to read. It...        5  10 16, 2012   \n",
       "\n",
       "      unix_review_time   helpful  \n",
       "0           1405123200    [0, 0]  \n",
       "1           1384214400    [0, 1]  \n",
       "2           1349049600  [13, 25]  \n",
       "3           1357776000    [0, 1]  \n",
       "4           1368230400    [0, 3]  \n",
       "...                ...       ...  \n",
       "2045        1392163200    [1, 1]  \n",
       "2046        1374105600    [1, 1]  \n",
       "2047        1352592000    [0, 1]  \n",
       "2048        1356825600    [2, 3]  \n",
       "2049        1350345600    [2, 3]  \n",
       "\n",
       "[2050 rows x 9 columns]"
      ]
     },
     "execution_count": 8,
     "metadata": {},
     "output_type": "execute_result"
    }
   ],
   "source": [
    "df"
   ]
  },
  {
   "cell_type": "code",
   "execution_count": 9,
   "metadata": {
    "collapsed": false
   },
   "outputs": [],
   "source": [
    "df.drop(['asin', 'reviewer_id', 'reviewer_name', 'summary', 'review_time', 'unix_review_time', 'helpful'],\n",
    "    axis = 1,\n",
    "    inplace = True)"
   ]
  },
  {
   "cell_type": "code",
   "execution_count": 10,
   "metadata": {
    "collapsed": false
   },
   "outputs": [
    {
     "data": {
      "text/html": [
       "<div>\n",
       "<table border=\"1\" class=\"dataframe\">\n",
       "  <thead>\n",
       "    <tr style=\"text-align: right;\">\n",
       "      <th></th>\n",
       "      <th>review_text</th>\n",
       "      <th>overall</th>\n",
       "    </tr>\n",
       "  </thead>\n",
       "  <tbody>\n",
       "    <tr>\n",
       "      <th>0</th>\n",
       "      <td>A departure for her, but a good read!</td>\n",
       "      <td>5</td>\n",
       "    </tr>\n",
       "    <tr>\n",
       "      <th>1</th>\n",
       "      <td>I had a hard time remembering who each charact...</td>\n",
       "      <td>2</td>\n",
       "    </tr>\n",
       "    <tr>\n",
       "      <th>2</th>\n",
       "      <td>This is the only review I have ever written.  ...</td>\n",
       "      <td>1</td>\n",
       "    </tr>\n",
       "    <tr>\n",
       "      <th>3</th>\n",
       "      <td>I was expecting more from J.K. Rowling, it's a...</td>\n",
       "      <td>2</td>\n",
       "    </tr>\n",
       "    <tr>\n",
       "      <th>4</th>\n",
       "      <td>As big a fan as I am of J K Rowling's Harry Po...</td>\n",
       "      <td>1</td>\n",
       "    </tr>\n",
       "    <tr>\n",
       "      <th>...</th>\n",
       "      <td>...</td>\n",
       "      <td>...</td>\n",
       "    </tr>\n",
       "    <tr>\n",
       "      <th>2045</th>\n",
       "      <td>Spectacular prose in a rambling story that see...</td>\n",
       "      <td>5</td>\n",
       "    </tr>\n",
       "    <tr>\n",
       "      <th>2046</th>\n",
       "      <td>Although I am a great fan of the Harry Potter ...</td>\n",
       "      <td>3</td>\n",
       "    </tr>\n",
       "    <tr>\n",
       "      <th>2047</th>\n",
       "      <td>While the story was intriguing, and I am a hug...</td>\n",
       "      <td>1</td>\n",
       "    </tr>\n",
       "    <tr>\n",
       "      <th>2048</th>\n",
       "      <td>What an odd book!  The adolescent characters a...</td>\n",
       "      <td>3</td>\n",
       "    </tr>\n",
       "    <tr>\n",
       "      <th>2049</th>\n",
       "      <td>Chatty and immediately comfortable to read. It...</td>\n",
       "      <td>5</td>\n",
       "    </tr>\n",
       "  </tbody>\n",
       "</table>\n",
       "<p>2050 rows × 2 columns</p>\n",
       "</div>"
      ],
      "text/plain": [
       "                                            review_text  overall\n",
       "0                 A departure for her, but a good read!        5\n",
       "1     I had a hard time remembering who each charact...        2\n",
       "2     This is the only review I have ever written.  ...        1\n",
       "3     I was expecting more from J.K. Rowling, it's a...        2\n",
       "4     As big a fan as I am of J K Rowling's Harry Po...        1\n",
       "...                                                 ...      ...\n",
       "2045  Spectacular prose in a rambling story that see...        5\n",
       "2046  Although I am a great fan of the Harry Potter ...        3\n",
       "2047  While the story was intriguing, and I am a hug...        1\n",
       "2048  What an odd book!  The adolescent characters a...        3\n",
       "2049  Chatty and immediately comfortable to read. It...        5\n",
       "\n",
       "[2050 rows x 2 columns]"
      ]
     },
     "execution_count": 10,
     "metadata": {},
     "output_type": "execute_result"
    }
   ],
   "source": [
    "df"
   ]
  },
  {
   "cell_type": "code",
   "execution_count": 11,
   "metadata": {
    "collapsed": false
   },
   "outputs": [
    {
     "data": {
      "text/plain": [
       "4    464\n",
       "5    457\n",
       "3    397\n",
       "2    373\n",
       "1    359\n",
       "Name: overall, dtype: int64"
      ]
     },
     "execution_count": 11,
     "metadata": {},
     "output_type": "execute_result"
    }
   ],
   "source": [
    "df.overall.value_counts(dropna = False)"
   ]
  },
  {
   "cell_type": "code",
   "execution_count": 12,
   "metadata": {
    "collapsed": false
   },
   "outputs": [
    {
     "data": {
      "text/plain": [
       "review_text    0\n",
       "overall        0\n",
       "dtype: int64"
      ]
     },
     "execution_count": 12,
     "metadata": {},
     "output_type": "execute_result"
    }
   ],
   "source": [
    "# TODO\n",
    "# check empty string\n",
    "df.isnull().sum()"
   ]
  },
  {
   "cell_type": "code",
   "execution_count": 13,
   "metadata": {
    "collapsed": true
   },
   "outputs": [],
   "source": [
    "#define feature matrix\n",
    "X = df.review_text\n",
    "c = df.overall"
   ]
  },
  {
   "cell_type": "code",
   "execution_count": 14,
   "metadata": {
    "collapsed": false
   },
   "outputs": [
    {
     "data": {
      "text/plain": [
       "0       5\n",
       "1       2\n",
       "2       1\n",
       "3       2\n",
       "4       1\n",
       "       ..\n",
       "2045    5\n",
       "2046    3\n",
       "2047    1\n",
       "2048    3\n",
       "2049    5\n",
       "Name: overall, dtype: int64"
      ]
     },
     "execution_count": 14,
     "metadata": {},
     "output_type": "execute_result"
    }
   ],
   "source": [
    "#todo\n",
    "c"
   ]
  },
  {
   "cell_type": "code",
   "execution_count": 15,
   "metadata": {
    "collapsed": false,
    "scrolled": true
   },
   "outputs": [
    {
     "data": {
      "text/plain": [
       "0                   A departure for her, but a good read!\n",
       "1       I had a hard time remembering who each charact...\n",
       "2       This is the only review I have ever written.  ...\n",
       "3       I was expecting more from J.K. Rowling, it's a...\n",
       "4       As big a fan as I am of J K Rowling's Harry Po...\n",
       "                              ...                        \n",
       "2045    Spectacular prose in a rambling story that see...\n",
       "2046    Although I am a great fan of the Harry Potter ...\n",
       "2047    While the story was intriguing, and I am a hug...\n",
       "2048    What an odd book!  The adolescent characters a...\n",
       "2049    Chatty and immediately comfortable to read. It...\n",
       "Name: review_text, dtype: object"
      ]
     },
     "execution_count": 15,
     "metadata": {},
     "output_type": "execute_result"
    }
   ],
   "source": [
    "#to do\n",
    "X"
   ]
  },
  {
   "cell_type": "markdown",
   "metadata": {},
   "source": [
    "## Train/test sets"
   ]
  },
  {
   "cell_type": "code",
   "execution_count": 16,
   "metadata": {
    "collapsed": true
   },
   "outputs": [],
   "source": [
    "train_X, test_X, train_c, test_c = cross_validation.train_test_split(X, c, train_size = .6, random_state = 0)"
   ]
  },
  {
   "cell_type": "markdown",
   "metadata": {
    "collapsed": true
   },
   "source": [
    "## TF-IDF and `TfidfVectorizer`"
   ]
  },
  {
   "cell_type": "code",
   "execution_count": 17,
   "metadata": {
    "collapsed": false
   },
   "outputs": [],
   "source": [
    "# TODO\n",
    "# similar to scaler meaning we normalize\n",
    "vectorizer = feature_extraction.text.TfidfVectorizer(stop_words = 'english')"
   ]
  },
  {
   "cell_type": "code",
   "execution_count": null,
   "metadata": {
    "collapsed": true
   },
   "outputs": [],
   "source": []
  },
  {
   "cell_type": "code",
   "execution_count": 18,
   "metadata": {
    "collapsed": false
   },
   "outputs": [
    {
     "data": {
      "text/plain": [
       "TfidfVectorizer(analyzer=u'word', binary=False, decode_error=u'strict',\n",
       "        dtype=<type 'numpy.int64'>, encoding=u'utf-8', input=u'content',\n",
       "        lowercase=True, max_df=1.0, max_features=None, min_df=1,\n",
       "        ngram_range=(1, 1), norm=u'l2', preprocessor=None, smooth_idf=True,\n",
       "        stop_words='english', strip_accents=None, sublinear_tf=False,\n",
       "        token_pattern=u'(?u)\\\\b\\\\w\\\\w+\\\\b', tokenizer=None, use_idf=True,\n",
       "        vocabulary=None)"
      ]
     },
     "execution_count": 18,
     "metadata": {},
     "output_type": "execute_result"
    }
   ],
   "source": [
    "vectorizer.fit(train_X)\n",
    "# going to create collumn for each\n",
    "# fit train the data"
   ]
  },
  {
   "cell_type": "code",
   "execution_count": null,
   "metadata": {
    "collapsed": true
   },
   "outputs": [],
   "source": []
  },
  {
   "cell_type": "code",
   "execution_count": null,
   "metadata": {
    "collapsed": true
   },
   "outputs": [],
   "source": []
  },
  {
   "cell_type": "markdown",
   "metadata": {},
   "source": [
    "## Bag-of-words"
   ]
  },
  {
   "cell_type": "code",
   "execution_count": 19,
   "metadata": {
    "collapsed": false
   },
   "outputs": [
    {
     "data": {
      "text/plain": [
       "[u'00',\n",
       " u'000',\n",
       " u'10',\n",
       " u'100',\n",
       " u'1019',\n",
       " u'103',\n",
       " u'11',\n",
       " u'112',\n",
       " u'11th',\n",
       " u'12',\n",
       " u'12tried',\n",
       " u'13',\n",
       " u'130',\n",
       " u'14',\n",
       " u'140',\n",
       " u'149',\n",
       " u'15',\n",
       " u'150',\n",
       " u'16',\n",
       " u'16s',\n",
       " u'16terri',\n",
       " u'17',\n",
       " u'170',\n",
       " u'1700',\n",
       " u'18',\n",
       " u'180',\n",
       " u'18th',\n",
       " u'19',\n",
       " u'1950',\n",
       " u'1956',\n",
       " u'1960s',\n",
       " u'1984',\n",
       " u'1990',\n",
       " u'1990s',\n",
       " u'19th',\n",
       " u'1am',\n",
       " u'1antagonist',\n",
       " u'1c',\n",
       " u'1minor',\n",
       " u'1setting',\n",
       " u'1st',\n",
       " u'1storyline',\n",
       " u'1theme',\n",
       " u'20',\n",
       " u'200',\n",
       " u'2012',\n",
       " u'2013',\n",
       " u'2014',\n",
       " u'20th',\n",
       " u'21',\n",
       " u'21st',\n",
       " u'22',\n",
       " u'2293',\n",
       " u'23',\n",
       " u'23yo',\n",
       " u'24',\n",
       " u'25',\n",
       " u'250',\n",
       " u'27',\n",
       " u'28',\n",
       " u'289',\n",
       " u'2c',\n",
       " u'2overall',\n",
       " u'2writing',\n",
       " u'30',\n",
       " u'300',\n",
       " u'30am',\n",
       " u'323',\n",
       " u'34',\n",
       " u'342',\n",
       " u'35',\n",
       " u'350',\n",
       " u'380',\n",
       " u'383',\n",
       " u'3rd',\n",
       " u'40',\n",
       " u'400',\n",
       " u'42',\n",
       " u'45',\n",
       " u'450',\n",
       " u'46',\n",
       " u'47',\n",
       " u'475',\n",
       " u'4for',\n",
       " u'4th',\n",
       " u'50',\n",
       " u'500',\n",
       " u'5000',\n",
       " u'502',\n",
       " u'503',\n",
       " u'512',\n",
       " u'53',\n",
       " u'5mrs',\n",
       " u'5th',\n",
       " u'60',\n",
       " u'600',\n",
       " u'62',\n",
       " u'64',\n",
       " u'70',\n",
       " u'715',\n",
       " u'73',\n",
       " u'739',\n",
       " u'74',\n",
       " u'75',\n",
       " u'77',\n",
       " u'80',\n",
       " u'800',\n",
       " u'8045',\n",
       " u'81',\n",
       " u'8211',\n",
       " u'8212',\n",
       " u'8216',\n",
       " u'8217',\n",
       " u'8220',\n",
       " u'8221',\n",
       " u'8230',\n",
       " u'88',\n",
       " u'89',\n",
       " u'8th',\n",
       " u'90',\n",
       " u'923',\n",
       " u'932',\n",
       " u'9734',\n",
       " u'99',\n",
       " u'_the',\n",
       " u'aback',\n",
       " u'abandon',\n",
       " u'abandoned',\n",
       " u'abarat',\n",
       " u'abbey',\n",
       " u'aberration',\n",
       " u'abide',\n",
       " u'ability',\n",
       " u'abit',\n",
       " u'abject',\n",
       " u'abjection',\n",
       " u'ablaze',\n",
       " u'able',\n",
       " u'abnormal',\n",
       " u'abode',\n",
       " u'abound',\n",
       " u'abrupt',\n",
       " u'abruptly',\n",
       " u'absence',\n",
       " u'absent',\n",
       " u'absolute',\n",
       " u'absolutely',\n",
       " u'absolution',\n",
       " u'absorb',\n",
       " u'absorbed',\n",
       " u'absorbing',\n",
       " u'absorption',\n",
       " u'abstaining',\n",
       " u'abstract',\n",
       " u'absurd',\n",
       " u'absurdity',\n",
       " u'abundance',\n",
       " u'abundant',\n",
       " u'abuse',\n",
       " u'abused',\n",
       " u'abuser',\n",
       " u'abusing',\n",
       " u'abusive',\n",
       " u'abutting',\n",
       " u'acceleration',\n",
       " u'accent',\n",
       " u'accents',\n",
       " u'accentuates',\n",
       " u'accept',\n",
       " u'acceptable',\n",
       " u'acceptance',\n",
       " u'accepted',\n",
       " u'accepting',\n",
       " u'access',\n",
       " u'accessibility',\n",
       " u'accessible',\n",
       " u'accident',\n",
       " u'accidentally',\n",
       " u'acclaim',\n",
       " u'acclaimed',\n",
       " u'accompanied',\n",
       " u'accomplished',\n",
       " u'accomplishes',\n",
       " u'accomplishment',\n",
       " u'according',\n",
       " u'account',\n",
       " u'accumulation',\n",
       " u'accuracy',\n",
       " u'accurate',\n",
       " u'accurately',\n",
       " u'accusations',\n",
       " u'accused',\n",
       " u'ace',\n",
       " u'acerbic',\n",
       " u'achieve',\n",
       " u'achievement',\n",
       " u'achievers',\n",
       " u'achieving',\n",
       " u'achingly',\n",
       " u'acknolwedging',\n",
       " u'acknowledge',\n",
       " u'acne',\n",
       " u'acquaintance',\n",
       " u'acquaintances',\n",
       " u'acquainted',\n",
       " u'acquaintences',\n",
       " u'acquired',\n",
       " u'acquits',\n",
       " u'acrobatics',\n",
       " u'act',\n",
       " u'acting',\n",
       " u'action',\n",
       " u'actions',\n",
       " u'active',\n",
       " u'actively',\n",
       " u'activites',\n",
       " u'activities',\n",
       " u'activity',\n",
       " u'actor',\n",
       " u'actors',\n",
       " u'actress',\n",
       " u'acts',\n",
       " u'actual',\n",
       " u'actually',\n",
       " u'acute',\n",
       " u'acutely',\n",
       " u'ad',\n",
       " u'adaptation',\n",
       " u'adapted',\n",
       " u'adaptive',\n",
       " u'add',\n",
       " u'added',\n",
       " u'addict',\n",
       " u'addicted',\n",
       " u'addicting',\n",
       " u'addiction',\n",
       " u'addiction2',\n",
       " u'addictions',\n",
       " u'addictive',\n",
       " u'addictively',\n",
       " u'addicts',\n",
       " u'adding',\n",
       " u'addition',\n",
       " u'additional',\n",
       " u'additionally',\n",
       " u'addled',\n",
       " u'address',\n",
       " u'addressed',\n",
       " u'addresses',\n",
       " u'addressing',\n",
       " u'adds',\n",
       " u'adept',\n",
       " u'adeptly',\n",
       " u'adequate',\n",
       " u'adhered',\n",
       " u'adjacent',\n",
       " u'adjective',\n",
       " u'adjectives',\n",
       " u'adjust',\n",
       " u'adjusted',\n",
       " u'adjusting',\n",
       " u'administration',\n",
       " u'administrator',\n",
       " u'admirable',\n",
       " u'admiration',\n",
       " u'admire',\n",
       " u'admission',\n",
       " u'admit',\n",
       " u'admits',\n",
       " u'admittedly',\n",
       " u'admitting',\n",
       " u'adolescence',\n",
       " u'adolescent',\n",
       " u'adolescents',\n",
       " u'adopt',\n",
       " u'adopted',\n",
       " u'adopting',\n",
       " u'adoption',\n",
       " u'adorable',\n",
       " u'adore',\n",
       " u'adored',\n",
       " u'adrian',\n",
       " u'adrift',\n",
       " u'adult',\n",
       " u'adulterers',\n",
       " u'adultery',\n",
       " u'adulthood',\n",
       " u'adultness',\n",
       " u'adults',\n",
       " u'advance',\n",
       " u'advances',\n",
       " u'advantage',\n",
       " u'advantages',\n",
       " u'adventure',\n",
       " u'adventures',\n",
       " u'adventuresinto',\n",
       " u'adventurous',\n",
       " u'adverb',\n",
       " u'adversity',\n",
       " u'advertised',\n",
       " u'advertising',\n",
       " u'advice',\n",
       " u'advise',\n",
       " u'advised',\n",
       " u'advocate',\n",
       " u'affair',\n",
       " u'affairs',\n",
       " u'affect',\n",
       " u'affected',\n",
       " u'affecting',\n",
       " u'affection',\n",
       " u'affects',\n",
       " u'affluence',\n",
       " u'affluent',\n",
       " u'afford',\n",
       " u'aflurry',\n",
       " u'aforementioned',\n",
       " u'afraid',\n",
       " u'aftermath',\n",
       " u'afternoon',\n",
       " u'afters',\n",
       " u'agatha',\n",
       " u'age',\n",
       " u'aged',\n",
       " u'agency',\n",
       " u'agenda',\n",
       " u'agendas',\n",
       " u'agents',\n",
       " u'agers',\n",
       " u'ages',\n",
       " u'aggrandizing',\n",
       " u'aggressive',\n",
       " u'aging',\n",
       " u'ago',\n",
       " u'agog',\n",
       " u'agony',\n",
       " u'agree',\n",
       " u'agreed',\n",
       " u'agreeing',\n",
       " u'agrees',\n",
       " u'ah',\n",
       " u'ahead',\n",
       " u'ahh',\n",
       " u'aid',\n",
       " u'aided',\n",
       " u'aimed',\n",
       " u'aimless',\n",
       " u'aims',\n",
       " u'ain',\n",
       " u'air',\n",
       " u'airplane',\n",
       " u'airport',\n",
       " u'aka',\n",
       " u'akin',\n",
       " u'al',\n",
       " u'ala',\n",
       " u'alarming',\n",
       " u'alarmingly',\n",
       " u'alas',\n",
       " u'alastair',\n",
       " u'albeit',\n",
       " u'albom',\n",
       " u'alcohol',\n",
       " u'alcoholics',\n",
       " u'alcoholism',\n",
       " u'alert',\n",
       " u'alertrowling',\n",
       " u'alex',\n",
       " u'ali',\n",
       " u'alien',\n",
       " u'alienated',\n",
       " u'aliens',\n",
       " u'align',\n",
       " u'aligns',\n",
       " u'alike',\n",
       " u'alittle',\n",
       " u'alive',\n",
       " u'allegations',\n",
       " u'allegiance',\n",
       " u'allegience',\n",
       " u'alley',\n",
       " u'alliance',\n",
       " u'alliances',\n",
       " u'allot',\n",
       " u'allow',\n",
       " u'allowances',\n",
       " u'allowed',\n",
       " u'allowing',\n",
       " u'allows',\n",
       " u'ally',\n",
       " u'alongside',\n",
       " u'alot',\n",
       " u'aloud',\n",
       " u'altar',\n",
       " u'alternate',\n",
       " u'alternately',\n",
       " u'alternates',\n",
       " u'alternating',\n",
       " u'alternative',\n",
       " u'alternatively',\n",
       " u'altogether',\n",
       " u'altruism',\n",
       " u'altruistic',\n",
       " u'alves',\n",
       " u'alyosha',\n",
       " u'amanda',\n",
       " u'amateurish',\n",
       " u'amaze',\n",
       " u'amazed',\n",
       " u'amazement',\n",
       " u'amazes',\n",
       " u'amazing',\n",
       " u'amazingly',\n",
       " u'amazon',\n",
       " u'amazonon',\n",
       " u'amber',\n",
       " u'ambidextrous',\n",
       " u'ambition',\n",
       " u'ambitions',\n",
       " u'ambitious',\n",
       " u'ambivalent',\n",
       " u'ambulance',\n",
       " u'amdisappointed',\n",
       " u'america',\n",
       " u'american',\n",
       " u'americanized',\n",
       " u'americans',\n",
       " u'amid',\n",
       " u'amidst',\n",
       " u'amorphous',\n",
       " u'amounts',\n",
       " u'amused',\n",
       " u'amusing',\n",
       " u'anaesthetised',\n",
       " u'analogies',\n",
       " u'analogy',\n",
       " u'analysis',\n",
       " u'analytic',\n",
       " u'analyze',\n",
       " u'analyzed',\n",
       " u'analyzing',\n",
       " u'ancient',\n",
       " u'andcouldn',\n",
       " u'anderson',\n",
       " u'andrew',\n",
       " u'andy',\n",
       " u'anecdotes',\n",
       " u'aneurism',\n",
       " u'aneurysm',\n",
       " u'anexercise',\n",
       " u'ange',\n",
       " u'angel',\n",
       " u'angelic',\n",
       " u'angels',\n",
       " u'anger',\n",
       " u'angle',\n",
       " u'angles',\n",
       " u'anglia',\n",
       " u'anglophile',\n",
       " u'anglophiles',\n",
       " u'angry',\n",
       " u'angst',\n",
       " u'anguish',\n",
       " u'animal',\n",
       " u'animated',\n",
       " u'animosity',\n",
       " u'ann',\n",
       " u'anne',\n",
       " u'annexed',\n",
       " u'anniverary',\n",
       " u'anniversary',\n",
       " u'announced',\n",
       " u'announcement',\n",
       " u'annoyed',\n",
       " u'annoying',\n",
       " u'annoyingly',\n",
       " u'anomaly',\n",
       " u'anonymous',\n",
       " u'ans',\n",
       " u'answer',\n",
       " u'answered',\n",
       " u'answers',\n",
       " u'antagonist',\n",
       " u'antagonists',\n",
       " u'anthony',\n",
       " u'anti',\n",
       " u'anticipate',\n",
       " u'anticipated',\n",
       " u'anticipating',\n",
       " u'anticipation',\n",
       " u'antics',\n",
       " u'antidote',\n",
       " u'antihero',\n",
       " u'antiheroes',\n",
       " u'antithesis',\n",
       " u'ants',\n",
       " u'anxieties',\n",
       " u'anxious',\n",
       " u'anxiously',\n",
       " u'anybody',\n",
       " u'anymore',\n",
       " u'anytime',\n",
       " u'anytown',\n",
       " u'anyways',\n",
       " u'ao',\n",
       " u'apart',\n",
       " u'apathy',\n",
       " u'apes',\n",
       " u'apex',\n",
       " u'aplomb',\n",
       " u'apologetic',\n",
       " u'apologia',\n",
       " u'apologies',\n",
       " u'apologist',\n",
       " u'apologize',\n",
       " u'appalled',\n",
       " u'appalling',\n",
       " u'apparent',\n",
       " u'apparently',\n",
       " u'appeal',\n",
       " u'appealing',\n",
       " u'appeals',\n",
       " u'appear',\n",
       " u'appearance',\n",
       " u'appearances',\n",
       " u'appeared',\n",
       " u'appearing',\n",
       " u'appears',\n",
       " u'appetite',\n",
       " u'appetizing',\n",
       " u'applaud',\n",
       " u'applauding',\n",
       " u'apple',\n",
       " u'apples',\n",
       " u'applied',\n",
       " u'applies',\n",
       " u'apply',\n",
       " u'applying',\n",
       " u'appointed',\n",
       " u'appreciate',\n",
       " u'appreciated',\n",
       " u'appreciating',\n",
       " u'approach',\n",
       " u'approached',\n",
       " u'appropriate',\n",
       " u'appropriately',\n",
       " u'approves',\n",
       " u'approximately',\n",
       " u'apt',\n",
       " u'aquiver',\n",
       " u'arabesques',\n",
       " u'arabia',\n",
       " u'arc',\n",
       " u'archaic',\n",
       " u'archived',\n",
       " u'ardent',\n",
       " u'area',\n",
       " u'areas',\n",
       " u'aren',\n",
       " u'arepaying',\n",
       " u'arf',\n",
       " u'argue',\n",
       " u'argued',\n",
       " u'argument',\n",
       " u'arguments',\n",
       " u'arise',\n",
       " u'arises',\n",
       " u'arising',\n",
       " u'arms',\n",
       " u'arnold',\n",
       " u'arouse',\n",
       " u'arrange',\n",
       " u'array',\n",
       " u'arresting',\n",
       " u'arrived',\n",
       " u'arrives',\n",
       " u'arrogance',\n",
       " u'arrogant',\n",
       " u'art',\n",
       " u'article',\n",
       " u'artificial',\n",
       " u'artist',\n",
       " u'artists',\n",
       " u'asan',\n",
       " u'asap',\n",
       " u'asian',\n",
       " u'asians',\n",
       " u'aside',\n",
       " u'ask',\n",
       " u'asked',\n",
       " u'asking',\n",
       " u'asks',\n",
       " u'asleep',\n",
       " u'aspect',\n",
       " u'aspects',\n",
       " u'aspirations',\n",
       " u'ass',\n",
       " u'assemblage',\n",
       " u'assembly',\n",
       " u'asserts',\n",
       " u'assesing',\n",
       " u'assess',\n",
       " u'assessment',\n",
       " u'assigned',\n",
       " u'assignment',\n",
       " u'assist',\n",
       " u'assistance',\n",
       " u'assistant',\n",
       " u'assists',\n",
       " u'association',\n",
       " u'associations',\n",
       " u'assorted',\n",
       " u'assortment',\n",
       " u'assuage',\n",
       " u'assume',\n",
       " u'assumed',\n",
       " u'assuming',\n",
       " u'assumption',\n",
       " u'assumptions',\n",
       " u'assure',\n",
       " u'assuredly',\n",
       " u'asthe',\n",
       " u'astounded',\n",
       " u'astounding',\n",
       " u'astute',\n",
       " u'athletic',\n",
       " u'atmospher',\n",
       " u'atmosphere',\n",
       " u'atonement',\n",
       " u'attached',\n",
       " u'attachment',\n",
       " u'attack',\n",
       " u'attacked',\n",
       " u'attempt',\n",
       " u'attempted',\n",
       " u'attempting',\n",
       " u'attempts',\n",
       " u'attend',\n",
       " u'attendant',\n",
       " u'attended',\n",
       " u'attends',\n",
       " u'attention',\n",
       " u'attest',\n",
       " u'attested',\n",
       " u'attitude',\n",
       " u'attitudes',\n",
       " u'attracted',\n",
       " u'attracting',\n",
       " u'attraction',\n",
       " u'attractive',\n",
       " u'attracts',\n",
       " u'atypical',\n",
       " u'audience',\n",
       " u'audiences',\n",
       " u'audio',\n",
       " u'audiobook',\n",
       " u'auditorium',\n",
       " u'aunt',\n",
       " u'austen',\n",
       " u'australian',\n",
       " u'authentic',\n",
       " u'authenticated',\n",
       " u'authenticity',\n",
       " u'author',\n",
       " u'authored',\n",
       " u'authority',\n",
       " u'authors',\n",
       " u'authorship',\n",
       " u'auto',\n",
       " u'autobiographical',\n",
       " u'automatic',\n",
       " u'automatically',\n",
       " u'avail',\n",
       " u'available',\n",
       " u'avalanche',\n",
       " u'avenues',\n",
       " u'average',\n",
       " u'averted',\n",
       " u'avid',\n",
       " u'avoid',\n",
       " u'avoided',\n",
       " u'avoiding',\n",
       " u'await',\n",
       " u'awaited',\n",
       " u'awaiting',\n",
       " u'awakes',\n",
       " u'award',\n",
       " u'awards',\n",
       " u'aware',\n",
       " u'awareness',\n",
       " u'away',\n",
       " u'awe',\n",
       " u'awed',\n",
       " u'awesome',\n",
       " u'awful',\n",
       " u'awhile',\n",
       " u'awkward',\n",
       " u'awkwardness',\n",
       " u'ax',\n",
       " u'babbit',\n",
       " u'babel',\n",
       " u'babies',\n",
       " u'baby',\n",
       " u'backbiting',\n",
       " u'backdrop',\n",
       " u'backfired',\n",
       " u'background',\n",
       " u'backgrounds',\n",
       " u'backhanded',\n",
       " u'backlash',\n",
       " u'backstabbing',\n",
       " u'backstory',\n",
       " u'backwards',\n",
       " u'backwater',\n",
       " u'backyard',\n",
       " u'bad',\n",
       " u'badgering',\n",
       " u'badly',\n",
       " u'baffling',\n",
       " u'bag',\n",
       " u'baggage',\n",
       " u'bags',\n",
       " u'baited',\n",
       " u'bakerlocal',\n",
       " u'balance',\n",
       " u'balanced',\n",
       " u'balancing',\n",
       " u'ball',\n",
       " u'ballard',\n",
       " u'balls',\n",
       " u'ballykissangel',\n",
       " u'balm',\n",
       " u'bam',\n",
       " u'banal',\n",
       " u'banality',\n",
       " u'band',\n",
       " u'bands',\n",
       " u'bandwagon',\n",
       " u'bane',\n",
       " u'bang',\n",
       " u'banish',\n",
       " u'banker',\n",
       " u'banks',\n",
       " u'bar',\n",
       " u'barbery',\n",
       " u'bare',\n",
       " u'barely',\n",
       " u'bares',\n",
       " u'barf',\n",
       " u'barker',\n",
       " u'barkers',\n",
       " u'barricade',\n",
       " u'barring',\n",
       " u'barry',\n",
       " u'barry____',\n",
       " u'base',\n",
       " u'baseballvalbooks',\n",
       " u'based',\n",
       " u'baser',\n",
       " u'basic',\n",
       " u'basically',\n",
       " u'basing',\n",
       " u'basis',\n",
       " u'basket',\n",
       " u'bastard',\n",
       " u'bat',\n",
       " u'bath',\n",
       " u'bathroom',\n",
       " u'bathrooms',\n",
       " u'battle',\n",
       " u'battles',\n",
       " u'bawden',\n",
       " u'bawling',\n",
       " u'bbc',\n",
       " u'bcasual',\n",
       " u'beach',\n",
       " u'beamazing',\n",
       " u'bear',\n",
       " u'bearable',\n",
       " u'bears',\n",
       " u'beasts',\n",
       " u'beat',\n",
       " u'beaten',\n",
       " u'beaters',\n",
       " u'beating',\n",
       " u'beats',\n",
       " u'beautiful',\n",
       " u'beautifully',\n",
       " u'beauty',\n",
       " u'becausethere',\n",
       " u'bed',\n",
       " u'bedroom',\n",
       " u'bedtime',\n",
       " u'befit',\n",
       " u'befuddled',\n",
       " u'beg',\n",
       " u'begained',\n",
       " u'began',\n",
       " u'begin',\n",
       " u'beginning',\n",
       " u'beginnings',\n",
       " u'begins',\n",
       " u'begun',\n",
       " u'behave',\n",
       " u'behaving',\n",
       " u'behavior',\n",
       " u'behaviors',\n",
       " u'behaviour',\n",
       " u'behavioural',\n",
       " u'beholder',\n",
       " u'behoves',\n",
       " u'beings',\n",
       " u'belief',\n",
       " u'beliefs',\n",
       " u'believable',\n",
       " u'believe',\n",
       " u'believeable',\n",
       " u'believes',\n",
       " u'believing',\n",
       " u'beliveable',\n",
       " u'bellchapel',\n",
       " u'belligerant',\n",
       " u'belligerent',\n",
       " u'belly',\n",
       " u'belonged',\n",
       " u'beloved',\n",
       " u'beneath',\n",
       " u'beneficial',\n",
       " u'benefit',\n",
       " u'benefiting',\n",
       " u'benefits',\n",
       " u'benson',\n",
       " u'bent',\n",
       " u'berates',\n",
       " u'bereft',\n",
       " u'bespectacled',\n",
       " u'best',\n",
       " u'bestseller',\n",
       " u'bestsellers',\n",
       " u'bestselling',\n",
       " u'bet',\n",
       " u'betrayal',\n",
       " u'betrayals',\n",
       " u'betrayed',\n",
       " u'better',\n",
       " u'beverly',\n",
       " u'beware',\n",
       " u'bias',\n",
       " u'biased',\n",
       " u'bible',\n",
       " u'bibliophiles',\n",
       " u'big',\n",
       " u'bigger',\n",
       " u'biggest',\n",
       " u'bigotry',\n",
       " u'billboard',\n",
       " u'billed',\n",
       " u'billionaire',\n",
       " u'bin',\n",
       " u'binchey',\n",
       " u'binchy',\n",
       " u'bind',\n",
       " u'binds',\n",
       " u'bing',\n",
       " u'biographic',\n",
       " u'biography',\n",
       " u'bird',\n",
       " u'birth',\n",
       " u'birthday',\n",
       " u'biscuit',\n",
       " u'bit',\n",
       " u'bite',\n",
       " u'biting',\n",
       " u'bits',\n",
       " u'bitter',\n",
       " u'bitterlky',\n",
       " u'bitterly',\n",
       " u'bizarre',\n",
       " u'black',\n",
       " u'blackmail',\n",
       " u'blades',\n",
       " u'blah',\n",
       " u'blames',\n",
       " u'bland',\n",
       " u'blank',\n",
       " u'blast',\n",
       " u'blatant',\n",
       " u'blatantly',\n",
       " u'bleak',\n",
       " u'bleaker',\n",
       " u'bleh',\n",
       " u'blend',\n",
       " u'blended',\n",
       " u'blessing',\n",
       " u'blew',\n",
       " u'blight',\n",
       " u'blinded',\n",
       " u'blindly',\n",
       " u'blindness',\n",
       " u'bliss',\n",
       " u'blithering',\n",
       " u'block',\n",
       " u'blockbuster',\n",
       " u'blocky',\n",
       " u'blog',\n",
       " u'bloggers',\n",
       " u'blood',\n",
       " u'bloodied',\n",
       " u'bloody',\n",
       " u'blown',\n",
       " u'blows',\n",
       " u'bluest',\n",
       " u'blume',\n",
       " u'blur',\n",
       " u'blurb',\n",
       " u'blyton',\n",
       " u'board',\n",
       " u'boarding',\n",
       " u'boared',\n",
       " u'bob',\n",
       " u'body',\n",
       " u'bogged',\n",
       " u'bohjalian',\n",
       " u'bold',\n",
       " u'boldly',\n",
       " u'bollocks',\n",
       " u'bomb',\n",
       " u'bombarded',\n",
       " u'bombs',\n",
       " u'bonus',\n",
       " u'boo',\n",
       " u'book',\n",
       " u'bookbanter',\n",
       " u'booker',\n",
       " u'bookmarked',\n",
       " u'bookmistblueeeyore',\n",
       " u'booknot',\n",
       " u'books',\n",
       " u'bookshelves',\n",
       " u'bookshop',\n",
       " u'bookso',\n",
       " u'bookstore',\n",
       " u'boomers',\n",
       " u'booming',\n",
       " u'boon',\n",
       " u'boook',\n",
       " u'boooorrrringggg',\n",
       " u'boorish',\n",
       " u'boost',\n",
       " u'boosting',\n",
       " u'boot',\n",
       " u'border',\n",
       " u'bordering',\n",
       " u'borders',\n",
       " u'bore',\n",
       " u'bored',\n",
       " u'boredom',\n",
       " u'boreing',\n",
       " u'borethis',\n",
       " u'boring',\n",
       " u'boringboringboring',\n",
       " u'born',\n",
       " u'borrow',\n",
       " u'borrowed',\n",
       " u'bother',\n",
       " u'bothered',\n",
       " u'bothering',\n",
       " u'bothers',\n",
       " u'bought',\n",
       " u'bound',\n",
       " u'boundaries',\n",
       " u'boutiques',\n",
       " u'bow',\n",
       " u'bowl',\n",
       " u'bows',\n",
       " u'box',\n",
       " u'boxes',\n",
       " u'boy',\n",
       " u'boyfriend',\n",
       " u'boyle',\n",
       " u'boys',\n",
       " u'bra',\n",
       " u'brace',\n",
       " u'bracelet',\n",
       " u'brackets',\n",
       " u'braid',\n",
       " u'brain',\n",
       " u'brains',\n",
       " u'branched',\n",
       " u'branching',\n",
       " u'brand',\n",
       " u'brave',\n",
       " u'bravery',\n",
       " u'bravo',\n",
       " u'brazen',\n",
       " u'breadth',\n",
       " u'break',\n",
       " u'breaking',\n",
       " u'breakneck',\n",
       " u'breaks',\n",
       " ...]"
      ]
     },
     "execution_count": 19,
     "metadata": {},
     "output_type": "execute_result"
    }
   ],
   "source": [
    "#check which words he memorized\n",
    "# 1st round\n",
    "# it seems to have too much noise, numbers, mixed number & letters, repeated words with same root\n",
    "# 2nd round - todo better clean up\n",
    "vectorizer.get_feature_names()"
   ]
  },
  {
   "cell_type": "markdown",
   "metadata": {},
   "source": [
    "## Transform the feature matrix `X`"
   ]
  },
  {
   "cell_type": "code",
   "execution_count": 20,
   "metadata": {
    "collapsed": false
   },
   "outputs": [],
   "source": [
    "# TODO\n",
    "train_X = vectorizer.transform(train_X)\n",
    "test_X = vectorizer.transform(test_X)"
   ]
  },
  {
   "cell_type": "code",
   "execution_count": 21,
   "metadata": {
    "collapsed": false
   },
   "outputs": [
    {
     "data": {
      "text/plain": [
       "<1230x9027 sparse matrix of type '<type 'numpy.float64'>'\n",
       "\twith 57398 stored elements in Compressed Sparse Row format>"
      ]
     },
     "execution_count": 21,
     "metadata": {},
     "output_type": "execute_result"
    }
   ],
   "source": [
    "train_X\n",
    "#sparse matrix is empty matrix"
   ]
  },
  {
   "cell_type": "code",
   "execution_count": 22,
   "metadata": {
    "collapsed": false
   },
   "outputs": [
    {
     "data": {
      "text/plain": [
       "matrix([[ 0.        ,  0.        ,  0.        , ...,  0.        ,\n",
       "          0.        ,  0.        ],\n",
       "        [ 0.        ,  0.        ,  0.        , ...,  0.        ,\n",
       "          0.        ,  0.        ],\n",
       "        [ 0.        ,  0.        ,  0.        , ...,  0.        ,\n",
       "          0.        ,  0.        ],\n",
       "        ..., \n",
       "        [ 0.        ,  0.        ,  0.        , ...,  0.        ,\n",
       "          0.        ,  0.        ],\n",
       "        [ 0.        ,  0.        ,  0.        , ...,  0.        ,\n",
       "          0.        ,  0.        ],\n",
       "        [ 0.        ,  0.        ,  0.22501177, ...,  0.        ,\n",
       "          0.        ,  0.        ]])"
      ]
     },
     "execution_count": 22,
     "metadata": {},
     "output_type": "execute_result"
    }
   ],
   "source": [
    "train_X.todense()"
   ]
  },
  {
   "cell_type": "code",
   "execution_count": 23,
   "metadata": {
    "collapsed": false
   },
   "outputs": [],
   "source": [
    "# change model here!\n",
    "#1st LOGISTIC REGRESSION\n",
    "model = linear_model.LogisticRegression()\n",
    "# random forest and run all the below - check the accuracy and compare wth logistic regression"
   ]
  },
  {
   "cell_type": "code",
   "execution_count": 24,
   "metadata": {
    "collapsed": false
   },
   "outputs": [
    {
     "data": {
      "text/plain": [
       "0.39904935449356432"
      ]
     },
     "execution_count": 24,
     "metadata": {},
     "output_type": "execute_result"
    }
   ],
   "source": [
    "cross_validation.cross_val_score(model, train_X, train_c, cv=5).mean()"
   ]
  },
  {
   "cell_type": "code",
   "execution_count": 27,
   "metadata": {
    "collapsed": true
   },
   "outputs": [],
   "source": [
    "train_c_hat = cross_validation.cross_val_predict(model, train_X, train_c, cv = 5)"
   ]
  },
  {
   "cell_type": "code",
   "execution_count": 28,
   "metadata": {
    "collapsed": false
   },
   "outputs": [
    {
     "data": {
      "text/plain": [
       "0.39918699186991868"
      ]
     },
     "execution_count": 28,
     "metadata": {},
     "output_type": "execute_result"
    }
   ],
   "source": [
    "metrics.accuracy_score(train_c, train_c_hat)"
   ]
  },
  {
   "cell_type": "code",
   "execution_count": 29,
   "metadata": {
    "collapsed": false
   },
   "outputs": [
    {
     "data": {
      "text/html": [
       "<div>\n",
       "<table border=\"1\" class=\"dataframe\">\n",
       "  <thead>\n",
       "    <tr style=\"text-align: right;\">\n",
       "      <th>True</th>\n",
       "      <th>1</th>\n",
       "      <th>2</th>\n",
       "      <th>3</th>\n",
       "      <th>4</th>\n",
       "      <th>5</th>\n",
       "    </tr>\n",
       "    <tr>\n",
       "      <th>Predicted</th>\n",
       "      <th></th>\n",
       "      <th></th>\n",
       "      <th></th>\n",
       "      <th></th>\n",
       "      <th></th>\n",
       "    </tr>\n",
       "  </thead>\n",
       "  <tbody>\n",
       "    <tr>\n",
       "      <th>1</th>\n",
       "      <td>102</td>\n",
       "      <td>49</td>\n",
       "      <td>20</td>\n",
       "      <td>6</td>\n",
       "      <td>10</td>\n",
       "    </tr>\n",
       "    <tr>\n",
       "      <th>2</th>\n",
       "      <td>45</td>\n",
       "      <td>54</td>\n",
       "      <td>35</td>\n",
       "      <td>7</td>\n",
       "      <td>8</td>\n",
       "    </tr>\n",
       "    <tr>\n",
       "      <th>3</th>\n",
       "      <td>28</td>\n",
       "      <td>48</td>\n",
       "      <td>56</td>\n",
       "      <td>27</td>\n",
       "      <td>13</td>\n",
       "    </tr>\n",
       "    <tr>\n",
       "      <th>4</th>\n",
       "      <td>17</td>\n",
       "      <td>36</td>\n",
       "      <td>84</td>\n",
       "      <td>128</td>\n",
       "      <td>94</td>\n",
       "    </tr>\n",
       "    <tr>\n",
       "      <th>5</th>\n",
       "      <td>22</td>\n",
       "      <td>37</td>\n",
       "      <td>49</td>\n",
       "      <td>104</td>\n",
       "      <td>151</td>\n",
       "    </tr>\n",
       "  </tbody>\n",
       "</table>\n",
       "</div>"
      ],
      "text/plain": [
       "True         1   2   3    4    5\n",
       "Predicted                       \n",
       "1          102  49  20    6   10\n",
       "2           45  54  35    7    8\n",
       "3           28  48  56   27   13\n",
       "4           17  36  84  128   94\n",
       "5           22  37  49  104  151"
      ]
     },
     "execution_count": 29,
     "metadata": {},
     "output_type": "execute_result"
    }
   ],
   "source": [
    "pd.crosstab(train_c_hat, train_c, rownames = ['Predicted'], colnames = ['True'])"
   ]
  },
  {
   "cell_type": "code",
   "execution_count": 30,
   "metadata": {
    "collapsed": false
   },
   "outputs": [
    {
     "data": {
      "text/plain": [
       "LogisticRegression(C=1.0, class_weight=None, dual=False, fit_intercept=True,\n",
       "          intercept_scaling=1, max_iter=100, multi_class='ovr', n_jobs=1,\n",
       "          penalty='l2', random_state=None, solver='liblinear', tol=0.0001,\n",
       "          verbose=0, warm_start=False)"
      ]
     },
     "execution_count": 30,
     "metadata": {},
     "output_type": "execute_result"
    }
   ],
   "source": [
    "model.fit(train_X, train_c)"
   ]
  },
  {
   "cell_type": "code",
   "execution_count": 31,
   "metadata": {
    "collapsed": false
   },
   "outputs": [
    {
     "data": {
      "text/plain": [
       "0.91951219512195126"
      ]
     },
     "execution_count": 31,
     "metadata": {},
     "output_type": "execute_result"
    }
   ],
   "source": [
    "model.score(train_X, train_c)"
   ]
  },
  {
   "cell_type": "code",
   "execution_count": 32,
   "metadata": {
    "collapsed": false
   },
   "outputs": [
    {
     "data": {
      "text/plain": [
       "0.4195121951219512"
      ]
     },
     "execution_count": 32,
     "metadata": {},
     "output_type": "execute_result"
    }
   ],
   "source": [
    "model.score(test_X, test_c)"
   ]
  },
  {
   "cell_type": "code",
   "execution_count": null,
   "metadata": {
    "collapsed": true
   },
   "outputs": [],
   "source": [
    "#Randon Forest"
   ]
  },
  {
   "cell_type": "code",
   "execution_count": 33,
   "metadata": {
    "collapsed": true
   },
   "outputs": [],
   "source": [
    "model = ensemble.RandomForestClassifier(n_estimators = 10)\n",
    "#for ten tres"
   ]
  },
  {
   "cell_type": "code",
   "execution_count": 34,
   "metadata": {
    "collapsed": false
   },
   "outputs": [
    {
     "data": {
      "text/plain": [
       "0.28437694197537028"
      ]
     },
     "execution_count": 34,
     "metadata": {},
     "output_type": "execute_result"
    }
   ],
   "source": [
    "cross_validation.cross_val_score(model, train_X, train_c, cv=5).mean()"
   ]
  },
  {
   "cell_type": "code",
   "execution_count": 35,
   "metadata": {
    "collapsed": true
   },
   "outputs": [],
   "source": [
    "model = ensemble.RandomForestClassifier(n_estimators = 100)"
   ]
  },
  {
   "cell_type": "code",
   "execution_count": 36,
   "metadata": {
    "collapsed": false
   },
   "outputs": [
    {
     "data": {
      "text/plain": [
       "0.37220179074224102"
      ]
     },
     "execution_count": 36,
     "metadata": {},
     "output_type": "execute_result"
    }
   ],
   "source": [
    "cross_validation.cross_val_score(model, train_X, train_c, cv=5).mean()"
   ]
  },
  {
   "cell_type": "code",
   "execution_count": 37,
   "metadata": {
    "collapsed": true
   },
   "outputs": [],
   "source": [
    "#change the ratings\n",
    "X = df.review_text\n",
    "c = df.overall.map({1: -1, 2:-1, 3:0, 4: 1, 5: 1})"
   ]
  },
  {
   "cell_type": "code",
   "execution_count": 38,
   "metadata": {
    "collapsed": false
   },
   "outputs": [
    {
     "data": {
      "text/plain": [
       "0       1\n",
       "1      -1\n",
       "2      -1\n",
       "3      -1\n",
       "4      -1\n",
       "       ..\n",
       "2045    1\n",
       "2046    0\n",
       "2047   -1\n",
       "2048    0\n",
       "2049    1\n",
       "Name: overall, dtype: int64"
      ]
     },
     "execution_count": 38,
     "metadata": {},
     "output_type": "execute_result"
    }
   ],
   "source": [
    "c"
   ]
  },
  {
   "cell_type": "markdown",
   "metadata": {},
   "source": [
    "## Machine Learning Modeling"
   ]
  },
  {
   "cell_type": "markdown",
   "metadata": {},
   "source": [
    "> # TODO..."
   ]
  },
  {
   "cell_type": "code",
   "execution_count": null,
   "metadata": {
    "collapsed": true
   },
   "outputs": [],
   "source": [
    "#randon forests\n",
    "#checking for feature importance see answer in the answer key\n",
    "# there is a lot of redundant words"
   ]
  },
  {
   "cell_type": "code",
   "execution_count": 39,
   "metadata": {
    "collapsed": true
   },
   "outputs": [],
   "source": [
    "class CustomTokenizer(object):\n",
    "    def __init__(self):\n",
    "        self.stemmer = stem.porter.PorterStemmer()\n",
    "\n",
    "    def __call__(self, document):\n",
    "        tokens = tokenize_text(document)\n",
    "        tokens = Stemmer.stem_tokens(tokens)\n",
    "        return tokens"
   ]
  },
  {
   "cell_type": "code",
   "execution_count": 40,
   "metadata": {
    "collapsed": true
   },
   "outputs": [],
   "source": [
    "vectorizer = feature_extraction.text.TfidfVectorizer(tokenizer = CustomTokenizer(), ngram_range = (1, 3), min_df = 3)"
   ]
  },
  {
   "cell_type": "code",
   "execution_count": null,
   "metadata": {
    "collapsed": true
   },
   "outputs": [],
   "source": [
    "vectorizer.fit(train_X)"
   ]
  }
 ],
 "metadata": {
  "anaconda-cloud": {},
  "kernelspec": {
   "display_name": "Python [Root]",
   "language": "python",
   "name": "Python [Root]"
  },
  "language_info": {
   "codemirror_mode": {
    "name": "ipython",
    "version": 2
   },
   "file_extension": ".py",
   "mimetype": "text/x-python",
   "name": "python",
   "nbconvert_exporter": "python",
   "pygments_lexer": "ipython2",
   "version": "2.7.12"
  }
 },
 "nbformat": 4,
 "nbformat_minor": 0
}
