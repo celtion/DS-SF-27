{
 "cells": [
  {
   "cell_type": "markdown",
   "metadata": {},
   "source": [
    "# DS-SF-27 | Unit Project 4: Notebook with Executive Summary\n",
    "\n",
    "In this project, you will summarize and present your analysis from Unit Projects 1-3."
   ]
  },
  {
   "cell_type": "markdown",
   "metadata": {},
   "source": [
    "> ## Question 1.  Introduction\n",
    "> Write a problem statement for this project."
   ]
  },
  {
   "cell_type": "markdown",
   "metadata": {},
   "source": [
    "Answer: The graduate school at UCLA is one of the most prestigious school in the country. Many factors may influence the admission of a student to the UCLA graduate program.\n",
    "\n",
    "Using data set from UCLA admission, a statistical analysis is performed to identify if is there is a relationship between students who attended a prestigious undergraduate institution and admission to UCLA graduate school.\n"
   ]
  },
  {
   "cell_type": "markdown",
   "metadata": {},
   "source": [
    "> ## Question 2.  Dataset\n",
    "> Write up a description of your data and any cleaning that was completed."
   ]
  },
  {
   "cell_type": "markdown",
   "metadata": {},
   "source": [
    "Answer:\n",
    "\n",
    "The data set is composed of 400 samples and it is divided into four variables: 1. Prestige (categorical), 2. GPA score (continuous), 3.GRE score (continuous), and 4.  Admission (categorical). \n",
    "The prestige variable has four subsets: 1= high prestige, 2=good prestige, 3=low prestige and 4=no prestige\n",
    "GPA score range from 0 to 4 (4 being the highest score)\n",
    "GRE score range from 200 to 800 (800 being the highest score)\n",
    "Admission is 0 for not admitted and 1 for admitted. \n",
    "Admission is the dependent variable and the other three are the predictors. \n",
    "\n",
    "The dataset was cleaned by removing null/missing values. The data was reduced to 397 samples. Box plots were also created to see the range of the data and outliers. Histogram plots and qq plots were useful to identify if the models were normally distributed and if any correction were needed, respectively. \n",
    "\n",
    "The data set seems to be normally distributed and qqplot of gre and gpa showed no correction were needed. \n",
    "\n"
   ]
  },
  {
   "cell_type": "markdown",
   "metadata": {
    "collapsed": true
   },
   "source": [
    "> ## Question 3.  Demo\n",
    "> Provide a table that explains the data by admission status."
   ]
  },
  {
   "cell_type": "markdown",
   "metadata": {},
   "source": [
    "Answer:\n",
    "\n",
    "Admit | 0 = Not admitted | 1 = Admitted\n",
    "---|---|---\n",
    "`Prestige 1.0` |28 | 33\n",
    "`Prestige 2.0` |95 | 53\n",
    "`Prestige 3.0` |93 | 28\n",
    "`Prestige 4.0` |54 | 12"
   ]
  },
  {
   "cell_type": "markdown",
   "metadata": {},
   "source": [
    "> ## Question 4. Methods\n",
    "> Write up the methods used in your analysis."
   ]
  },
  {
   "cell_type": "markdown",
   "metadata": {},
   "source": [
    "Answer: We are testing the hypothesis that students from high prestige undergruate institution (prestige 1.0) will be admitted to UCLA graduate school. We use one hot encoding to convert prestige to a nominal variable and then encode it into binary variables. Doing this, we can calculate the odds of been admitted to UCLA graduate school,for students coming from high prestige undergraduate school as well the odds of the ones not coming from a prestige school.    "
   ]
  },
  {
   "cell_type": "markdown",
   "metadata": {},
   "source": [
    "> ## Question 5. Results\n",
    "> Write up your results."
   ]
  },
  {
   "cell_type": "markdown",
   "metadata": {},
   "source": [
    "Answer:\n",
    "Calculating probability and odds based on prestige, one coming from a prestigeous undergraduate school has a probability of 54% and an odd of 1.18 to get admitted. The probability of not been admitted is 28% and odd of 0.38. The odds ration is 3, meaning that a student from the most prestigeous shcool is 3 times more likely be admitted to UCLA graduate school than those who didn't not attend a prestigeous school. \n",
    "\n",
    "If a student is coming from the least prestigeous school, the probability of been accepted to UCLA drops to 18% with an odd of 0.2.\n",
    "\n",
    "The results from the logistic regression using gpa, gre for high prestige are statistically significant for all variables.\n",
    "\n",
    "The prediction based on stats model to be admitted for students with gre of 800 and gpa of 4 is 73%, 58%, 42% and 37% for students coming from prestige 1, 2, 3, and 4 respectively. \n",
    "The prediction based on sklearn is slight lower: 71%, 57%, 41% and 34% for prestige 1,2,3,and 4 respectively. \n",
    "\n"
   ]
  },
  {
   "cell_type": "markdown",
   "metadata": {},
   "source": [
    "> ## Question 6. Visuals\n",
    "> Provide a table or visualization of these results."
   ]
  },
  {
   "cell_type": "markdown",
   "metadata": {},
   "source": [
    "Answer:\n",
    "\n",
    "model_type| gpa |gre | prestige_1 | prestige_2 | prestige_3| prestige_4\n",
    "---|---|---|---|---\n",
    "`Stats_model`| 4 |800 | 73% | 58% |42% |37%\n",
    "`SkLearn_model`|4 | 800 | 71% | 57% | 41% | 34%"
   ]
  },
  {
   "cell_type": "markdown",
   "metadata": {},
   "source": [
    "> ## Question 7.  Discussion\n",
    "> Write up your discussion and future steps."
   ]
  },
  {
   "cell_type": "markdown",
   "metadata": {},
   "source": [
    "Answer:"
   ]
  }
 ],
 "metadata": {
  "anaconda-cloud": {},
  "kernelspec": {
   "display_name": "Python [Root]",
   "language": "python",
   "name": "Python [Root]"
  },
  "language_info": {
   "codemirror_mode": {
    "name": "ipython",
    "version": 2
   },
   "file_extension": ".py",
   "mimetype": "text/x-python",
   "name": "python",
   "nbconvert_exporter": "python",
   "pygments_lexer": "ipython2",
   "version": "2.7.12"
  }
 },
 "nbformat": 4,
 "nbformat_minor": 0
}
